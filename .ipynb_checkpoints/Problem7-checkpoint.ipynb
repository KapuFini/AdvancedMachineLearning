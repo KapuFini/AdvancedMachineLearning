{
 "cells": [
  {
   "cell_type": "markdown",
   "metadata": {},
   "source": [
    "# Problem 7\n",
    "## 1\n",
    "- Momentum [『ゼロから作るDeep Learning - Pythonで学ぶディープラーニングの理論と実装』(斎藤康毅)　2016](https://www.amazon.co.jp/%E3%82%BC%E3%83%AD%E3%81%8B%E3%82%89%E4%BD%9C%E3%82%8BDeep-Learning-%E2%80%95Python%E3%81%A7%E5%AD%A6%E3%81%B6%E3%83%87%E3%82%A3%E3%83%BC%E3%83%97%E3%83%A9%E3%83%BC%E3%83%8B%E3%83%B3%E3%82%B0%E3%81%AE%E7%90%86%E8%AB%96%E3%81%A8%E5%AE%9F%E8%A3%85-%E6%96%8E%E8%97%A4-%E5%BA%B7%E6%AF%85/dp/4873117585)\n",
    "- rmsprop [\"Generating Sequences With Recurrent Neural Networks\"(Alex Graves) 2013](https://arxiv.org/pdf/1308.0850.pdf)\n",
    "- Nadam   [\"ADAM: A METHOD FOR STOCHASTIC OPTIMIZATION\"(Diederik P. Kingma,Jimmy Lei Ba) 2014](https://arxiv.org/pdf/1412.6980.pdf)"
   ]
  },
  {
   "cell_type": "markdown",
   "metadata": {},
   "source": [
    "# 2\n"
   ]
  },
  {
   "cell_type": "code",
   "execution_count": 1,
   "metadata": {},
   "outputs": [
    {
     "name": "stdout",
     "output_type": "stream",
     "text": [
      "-1.2605890295951339\n"
     ]
    }
   ],
   "source": [
    "\n",
    "import numpy as np\n",
    "import sys ,os\n",
    "sys.path.append(os.pardir)\n",
    "from mnist import load_mnist## 本から借りた\n",
    "(xtrain,ytrain),(xtest,ytest)=load_mnist(one_hot_label=True)\n",
    "xtrain=np.c_[xtrain,np.ones(len(xtrain))]\n",
    "xtest=np.c_[xtest,np.ones(len(xtest))]\n",
    "A=np.random.randn(3,5)\n",
    "   \n",
    "print(A[2][4])\n",
    "def softmax(x):\n",
    "    a=np.max(x)\n",
    "    expx=np.exp(a-x)\n",
    "    sum_expx=np.sum(expx)\n",
    "    return expx/sum_expx\n",
    "def cross_entropy_error(y,t):\n",
    "    delta=1e-7\n",
    "    return -np.sum(t*np.log(y+delta))\n",
    "class fun:\n",
    "    def __init__(self,w=np.random.randn(2)):\n",
    "        self.w=w\n",
    "    def loss(self):\n",
    "        return np.sum(self.w**2)\n",
    "    def grad(self):\n",
    "        h=1/(2**10)\n",
    "        ans=np.zeros_like(self.w)\n",
    "        for i in range(self.w.size):\n",
    "            tmp=self.w[i]\n",
    "            self.w[i]=tmp+h\n",
    "            #print(self.loss())\n",
    "            f1=self.loss()\n",
    "            self.w[i]=tmp-h\n",
    "            f2=self.loss()\n",
    "            #print(str(tmp+h)+\"     \"+str(tmp-h))\n",
    "            #print(\"===============\")\n",
    "            #print((f1)-(f2))\n",
    "            #print(2*h)\n",
    "                \n",
    "            ans[i]=(f1-f2)/(2*h)\n",
    "            #print(ans[i])\n",
    "            #print(\"###############\")\n",
    "            self.w[i]=tmp\n",
    "        return ans\n",
    "class func:\n",
    "    def __init__(self,x,y,w=np.random.randn(28*28+1,10)):\n",
    "        self.x=x\n",
    "        self.y=y\n",
    "        self.w=w\n",
    "    def pred(self,x):\n",
    "        return softmax(np.dot(x,self.w))\n",
    "    def loss(self):\n",
    "        Pred=self.pred(self.x)\n",
    "        return cross_entropy_error(Pred,self.y)    \n",
    "        #return a\n",
    "    def grad(self):\n",
    "        h=1/(2**10)\n",
    "        ans=np.zeros_like(self.w)\n",
    "        for i in range(28*28+1):\n",
    "            for j in range(10):\n",
    "                tmp=self.w[i][j]\n",
    "            \n",
    "                self.w[i][j]=tmp+h\n",
    "                f1=self.loss()\n",
    "                self.w[i][j]=tmp-h\n",
    "                f2=self.loss()\n",
    "                #print((tmp+h)-(tmp-h))\n",
    "                #print(str(f1)+\" ######   \"+str(f2))\n",
    "                #print(tmp+h)\n",
    "                #print(tmp-h)\n",
    "                ans[i][j]=(f1-f2)/(2*h)\n",
    "                self.w[i][j]=tmp\n",
    "                #print(ans[i][j])\n",
    "            #    print(str(i)+\" grad \"+str(j))\n",
    "        return ans\n",
    "    def prediction(self,x):\n",
    "        return np.argmax(self.pred(x))"
   ]
  },
  {
   "cell_type": "markdown",
   "metadata": {},
   "source": [
    "### Momentum"
   ]
  },
  {
   "cell_type": "code",
   "execution_count": 31,
   "metadata": {},
   "outputs": [],
   "source": [
    "class momentum:\n",
    "    def __init__(self,fun,lr=0.01,momentum=0.9):\n",
    "        self.lr=lr\n",
    "        self.momentum=momentum\n",
    "        self.fun=fun\n",
    "        self.v=np.zeros_like(fun.w)\n",
    "    def  update(self):\n",
    "        self.v=self.momentum*self.v-self.fun.grad()*self.lr\n",
    "        self.fun.w=self.fun.w+self.v\n",
    "        #print(self.fun.loss())"
   ]
  },
  {
   "cell_type": "markdown",
   "metadata": {},
   "source": [
    "MNISTのデータで最適化を行おうとして失敗した"
   ]
  },
  {
   "cell_type": "code",
   "execution_count": 3,
   "metadata": {},
   "outputs": [
    {
     "data": {
      "text/plain": [
       "'\\nbatch=np.random.choice(60000,100)\\nX=xtrain[batch]\\nY=ytrain[batch]\\nf=func(X,Y)\\ncorrect=0\\nfor i in range(len(ytest[0:100])):\\n   #print((np.argmax(ytest[i]))-(np.argmax(f.pred(xtest[i]))))\\n    if np.argmax(ytest[i])-np.argmax(f.pred(xtest[i]))==0:\\n        correct=correct+1\\nprint(correct)\\nm=momentum(f)\\nprint(f.loss())\\n#print(f.grad())\\nfor i in range(50):\\n    #print(f.loss())\\n    m.update()\\ncorrect=0\\nprint(f.loss())\\nfor i in range(len(ytest[0:100])):\\n    if np.argmax(ytest[i])==np.argmax(f.pred(xtest[i])):\\n        correct=correct+1\\nprint(correct)\\n'"
      ]
     },
     "execution_count": 3,
     "metadata": {},
     "output_type": "execute_result"
    }
   ],
   "source": [
    "\"\"\"\n",
    "batch=np.random.choice(60000,100)\n",
    "X=xtrain[batch]\n",
    "Y=ytrain[batch]\n",
    "f=func(X,Y)\n",
    "correct=0\n",
    "for i in range(len(ytest[0:100])):\n",
    "   #print((np.argmax(ytest[i]))-(np.argmax(f.pred(xtest[i]))))\n",
    "    if np.argmax(ytest[i])-np.argmax(f.pred(xtest[i]))==0:\n",
    "        correct=correct+1\n",
    "print(correct)\n",
    "m=momentum(f)\n",
    "print(f.loss())\n",
    "#print(f.grad())\n",
    "for i in range(50):\n",
    "    #print(f.loss())\n",
    "    m.update()\n",
    "correct=0\n",
    "print(f.loss())\n",
    "for i in range(len(ytest[0:100])):\n",
    "    if np.argmax(ytest[i])==np.argmax(f.pred(xtest[i])):\n",
    "        correct=correct+1\n",
    "print(correct)\n",
    "\"\"\""
   ]
  },
  {
   "cell_type": "markdown",
   "metadata": {},
   "source": [
    "簡単な二次関数で最適化を行う"
   ]
  },
  {
   "cell_type": "code",
   "execution_count": 32,
   "metadata": {},
   "outputs": [
    {
     "name": "stdout",
     "output_type": "stream",
     "text": [
      "[10. 10.]\n",
      "[20. 20.]\n",
      "200.0\n"
     ]
    },
    {
     "data": {
      "image/png": "[encoded data removed]",
      "text/plain": [
       "<Figure size 432x288 with 1 Axes>"
      ]
     },
     "metadata": {
      "needs_background": "light"
     },
     "output_type": "display_data"
    }
   ],
   "source": [
    "f=fun(np.array([10.0,10.0]))\n",
    "m=momentum(f)\n",
    "print(f.w)\n",
    "print(f.grad())\n",
    "print(f.loss())\n",
    "fs=np.array([])\n",
    "for i in range(50):\n",
    "    m.update()\n",
    "    fs=np.append(fs,f.loss())\n",
    "import matplotlib.pyplot as plt\n",
    "#print(fs)\n",
    "plt.plot(fs)\n",
    "plt.show()"
   ]
  },
  {
   "cell_type": "markdown",
   "metadata": {},
   "source": [
    "### rmsprop\n",
    "簡単な二次関数で最適化を行う"
   ]
  },
  {
   "cell_type": "code",
   "execution_count": 33,
   "metadata": {},
   "outputs": [],
   "source": [
    "class rmsprop:\n",
    "    def __init__(self,fun,ko=0.9,sko=0.0001,N=0.95,T=0.0001):\n",
    "        self.fun=fun\n",
    "        self.ko=ko\n",
    "        self.sko=sko\n",
    "        self.N=N\n",
    "        self.T=T\n",
    "        self.v=np.zeros_like(fun.w)\n",
    "        self.n=np.zeros_like(fun.w)\n",
    "        self.g=np.zeros_like(fun.w)\n",
    "    def  update(self):\n",
    "        A=self.fun.grad()\n",
    "        self.n=self.N*self.n+(1-self.N)*(A)*A\n",
    "        self.g=self.N*self.g+(1-self.N)*A\n",
    "        self.v=self.ko*self.v-self.sko*A/np.sqrt(self.n-self.g*self.g+self.T)\n",
    "        self.fun.w=self.fun.w+self.v\n",
    "        #print(self.n,end=\"   \")\n",
    "        #print(self.g,end=\"   \")\n",
    "        #print(self.v)"
   ]
  },
  {
   "cell_type": "code",
   "execution_count": 34,
   "metadata": {},
   "outputs": [
    {
     "name": "stdout",
     "output_type": "stream",
     "text": [
      "[10. 10.]\n",
      "[20. 20.]\n",
      "200.0\n"
     ]
    },
    {
     "data": {
      "image/png": "[encoded data removed]",
      "text/plain": [
       "<Figure size 432x288 with 1 Axes>"
      ]
     },
     "metadata": {
      "needs_background": "light"
     },
     "output_type": "display_data"
    }
   ],
   "source": [
    "f=fun(np.array([10.0,10.0]))\n",
    "m=rmsprop(f)\n",
    "print(f.w)\n",
    "print(f.grad())\n",
    "print(f.loss())\n",
    "fs=np.array([])\n",
    "for i in range(1000):\n",
    "    m.update()\n",
    "    fs=np.append(fs,f.loss())\n",
    "import matplotlib.pyplot as plt\n",
    "#print(fs)\n",
    "plt.plot(fs)\n",
    "plt.show()"
   ]
  },
  {
   "cell_type": "markdown",
   "metadata": {},
   "source": [
    "### Nadam\n",
    "簡単な二次関数で最適化を行う"
   ]
  },
  {
   "cell_type": "code",
   "execution_count": 80,
   "metadata": {},
   "outputs": [],
   "source": [
    "class Nadam:\n",
    "    def __init__(self,fun,mu=0.001,v=0.001,alpha=0.02):\n",
    "        self.fun=fun\n",
    "        self.mu=mu\n",
    "        self.v=v\n",
    "        self.alpha=alpha\n",
    "        self.m=np.zeros_like(fun.w)\n",
    "        self.n=np.zeros_like(fun.w)\n",
    "        self.M=np.zeros_like(fun.w)\n",
    "        self.N=np.zeros_like(fun.w)\n",
    "        self.Mu=0\n",
    "    def  update(self):\n",
    "        self.Mu=self.Mu+self.mu\n",
    "        g=self.fun.grad()\n",
    "        self.m=self.mu*self.m+(1-self.mu)+(1-self.mu)*g\n",
    "        self.n=self.v*self.n+(1-self.v)*(g**2)\n",
    "        self.M=(self.mu*self.m/(1-self.Mu))+(1-self.mu)*g/(1-self.Mu)\n",
    "        self.N=self.v*self.n/(1-self.v)\n",
    "        self.fun.w=self.fun.w-self.alpha*self.M/np.sqrt(self.N)"
   ]
  },
  {
   "cell_type": "code",
   "execution_count": 84,
   "metadata": {},
   "outputs": [
    {
     "name": "stdout",
     "output_type": "stream",
     "text": [
      "[10. 10.]\n",
      "[20. 20.]\n",
      "200.0\n"
     ]
    },
    {
     "data": {
      "image/png": "[encoded data removed]",
      "text/plain": [
       "<Figure size 432x288 with 2 Axes>"
      ]
     },
     "metadata": {
      "needs_background": "light"
     },
     "output_type": "display_data"
    }
   ],
   "source": [
    "f=fun(np.array([10.0,10.0]))\n",
    "m=Nadam(f)\n",
    "print(f.w)\n",
    "print(f.grad())\n",
    "print(f.loss())\n",
    "fs=np.array([])\n",
    "time=30\n",
    "ws=np.zeros([f.w.size,time])\n",
    "\n",
    "for i in range(time):\n",
    "    m.update()\n",
    "    fs=np.append(fs,f.loss())\n",
    "    for j in range(f.w.size):\n",
    "        ws[j][i]=f.w[j]\n",
    "\n",
    "import matplotlib.pyplot as plt\n",
    "#print(fs)\n",
    "fig=plt.figure()\n",
    "a1=fig.add_subplot(2,1,1)\n",
    "\n",
    "a1.plot(fs)\n",
    "a2=fig.add_subplot(2,1,2)\n",
    "\n",
    "a2.plot(ws[0],ws[1])\n",
    "\n",
    "plt.show()"
   ]
  },
  {
   "cell_type": "markdown",
   "metadata": {},
   "source": [
    "## 3\n",
    "### AdaGrad"
   ]
  },
  {
   "cell_type": "code",
   "execution_count": 64,
   "metadata": {},
   "outputs": [],
   "source": [
    "class AdaGrad:\n",
    "    def __init__(self,fun,lr=0.01):\n",
    "        self.lr=lr\n",
    "        self.fun=fun\n",
    "        self.h=np.zeros_like(fun.w)\n",
    "    def  update(self):\n",
    "        g=self.fun.grad()\n",
    "        self.h=g*g+self.h\n",
    "        self.fun.w=self.fun.w-self.lr*g/np.sqrt(self.h+1e-7)"
   ]
  },
  {
   "cell_type": "code",
   "execution_count": 68,
   "metadata": {},
   "outputs": [
    {
     "name": "stdout",
     "output_type": "stream",
     "text": [
      "[10. 10.]\n",
      "[20. 20.]\n",
      "200.0\n",
      "[7.43933983 7.43933983]\n",
      "[6.10791862 6.10791862]\n",
      "[5.15003615 5.15003615]\n",
      "[4.40039723 4.40039723]\n",
      "[3.78967679 3.78967679]\n",
      "[3.2804936 3.2804936]\n",
      "[2.84970151 2.84970151]\n",
      "[2.48162885 2.48162885]\n",
      "[2.16497898 2.16497898]\n",
      "[1.89122624 1.89122624]\n",
      "[1.65370987 1.65370987]\n",
      "[1.44708691 1.44708691]\n",
      "[1.2669835 1.2669835]\n",
      "[1.10976246 1.10976246]\n",
      "[0.97236228 0.97236228]\n",
      "[0.8521817 0.8521817]\n",
      "[0.74699438 0.74699438]\n",
      "[0.65488417 0.65488417]\n",
      "[0.5741947 0.5741947]\n",
      "[0.5034894 0.5034894]\n",
      "[0.44151907 0.44151907]\n",
      "[0.38719532 0.38719532]\n",
      "[0.33956838 0.33956838]\n",
      "[0.29780849 0.29780849]\n",
      "[0.26119006 0.26119006]\n",
      "[0.22907819 0.22907819]\n",
      "[0.20091696 0.20091696]\n",
      "[0.17621946 0.17621946]\n",
      "[0.1545591 0.1545591]\n",
      "[0.13556198 0.13556198]\n"
     ]
    },
    {
     "data": {
      "image/png": "[encoded data removed]",
      "text/plain": [
       "<Figure size 432x288 with 1 Axes>"
      ]
     },
     "metadata": {
      "needs_background": "light"
     },
     "output_type": "display_data"
    }
   ],
   "source": [
    "f=fun(np.array([10.0,10.0]))\n",
    "m=AdaGrad(f,lr=1.5)\n",
    "print(f.w)\n",
    "print(f.grad())\n",
    "print(f.loss())\n",
    "fs=np.array([])\n",
    "for i in range(30):\n",
    "    m.update()\n",
    "    print(f.w)\n",
    "    fs=np.append(fs,f.loss())\n",
    "import matplotlib.pyplot as plt\n",
    "#print(fs)\n",
    "plt.plot(fs)\n",
    "plt.show()"
   ]
  },
  {
   "cell_type": "markdown",
   "metadata": {},
   "source": [
    "### Adam\n",
    "実装途中"
   ]
  },
  {
   "cell_type": "code",
   "execution_count": null,
   "metadata": {},
   "outputs": [],
   "source": []
  }
 ],
 "metadata": {
  "kernelspec": {
   "display_name": "Python 3",
   "language": "python",
   "name": "python3"
  },
  "language_info": {
   "codemirror_mode": {
    "name": "ipython",
    "version": 3
   },
   "file_extension": ".py",
   "mimetype": "text/x-python",
   "name": "python",
   "nbconvert_exporter": "python",
   "pygments_lexer": "ipython3",
   "version": "3.7.3"
  }
 },
 "nbformat": 4,
 "nbformat_minor": 2
}
