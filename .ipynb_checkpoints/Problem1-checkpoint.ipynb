{
 "cells": [
  {
   "cell_type": "code",
   "execution_count": 1,
   "metadata": {},
   "outputs": [],
   "source": [
    "import numpy as np\n"
   ]
  },
  {
   "cell_type": "markdown",
   "metadata": {},
   "source": [
    "# Problem1\n",
    "## 1."
   ]
  },
  {
   "cell_type": "code",
   "execution_count": 2,
   "metadata": {},
   "outputs": [],
   "source": [
    "class logistic_regression:\n",
    "    def __init__(self,x,y,w):\n",
    "        self.x=x\n",
    "        self.y=y\n",
    "        self.w=w\n",
    "        #self.w=np.random.randn(self.x[0].size)\n",
    "    def log_reg(self):\n",
    "        sum=0\n",
    "        for i in range(len(x)):\n",
    "            sum=sum+np.log(1+np.exp(-self.y[i]*np.dot(self.w.T,self.x[i])))\n",
    "            #print(str(i)+\" \"+str(sum))\n",
    "        return sum+np.dot(self.w.T,self.w)              \n",
    "    def gradient(self):\n",
    "        h=1/(2**12)\n",
    "        gradient=np.zeros_like(self.w)\n",
    "        for i in range(self.w.size):\n",
    "            tmp=self.w[i]\n",
    "            self.w[i]=self.w[i]+h\n",
    "            f1=self.log_reg()\n",
    "            self.w[i]=tmp-h\n",
    "            f2=self.log_reg()\n",
    "            gradient[i]=(f1-f2)/(2*h)\n",
    "            self.w[i]=tmp\n",
    "        return gradient\n",
    "    def hessian(self):\n",
    "        mat=np.zeros([len(self.w),len(self.w)])\n",
    "        h=1/(2**10)\n",
    "        for i in range(len(self.w)):\n",
    "            tmp=self.w[i]\n",
    "            self.w[i]=tmp+h\n",
    "            f1=self.gradient()\n",
    "            self.w[i]=tmp-h\n",
    "            f2=self.gradient()\n",
    "            mat[i]=(f1-f2)/(2*h)\n",
    "            self.w[i]=tmp\n",
    "        return mat.T\n",
    "    def steepest_gradient_method(self):\n",
    "        alpha=0.001\n",
    "        array=[]\n",
    "        ans=self.log_reg()\n",
    "        for i in range(100):\n",
    "            array=np.append(array,ans)\n",
    "            self.w=self.w-alpha*self.gradient()\n",
    "            ans=self.log_reg()\n",
    "            if i%10==0:\n",
    "                \n",
    "                print(str(i)+\" :\"+str(ans))\n",
    "            \n",
    "        return array\n",
    "    def newton_based_method(self):\n",
    "        alpha=1\n",
    "        array=[]\n",
    "        ans=self.log_reg()\n",
    "        for i in range(100):\n",
    "            array=np.append(array,ans)\n",
    "            H=self.hessian()\n",
    "            invH=np.linalg.inv(H)\n",
    "            #print()\n",
    "            #print(invH)\n",
    "            #print(self.gradient())\n",
    "            d=np.dot(invH,-self.gradient())\n",
    "            #print(d)\n",
    "            #print(np.dot(invH,-self.gradient()))\n",
    "            self.w=self.w+alpha*d\n",
    "            ans=self.log_reg()\n",
    "            if i<10:\n",
    "                print(ans)\n",
    "            #print(invH)\n",
    "                print(\"##########################\")\n",
    "        return array\n",
    "    def judge(self,x):\n",
    "        return 1 if np.dot(self.w.T,x)>=0 else -1"
   ]
  },
  {
   "cell_type": "code",
   "execution_count": 3,
   "metadata": {},
   "outputs": [
    {
     "name": "stdout",
     "output_type": "stream",
     "text": [
      "-1.623958167161815 -1\n",
      "394.61677790046656\n",
      "0 :389.84172411127065\n",
      "10 :348.00595408107307\n",
      "20 :315.450241244821\n",
      "30 :290.175666917243\n",
      "40 :270.4766862478472\n",
      "50 :255.00205605318172\n",
      "60 :242.72485035947048\n",
      "70 :232.88018978676283\n",
      "80 :224.90212333768022\n",
      "90 :218.37120523343916\n",
      "213.47039906938645\n",
      "accuracy96%\n"
     ]
    }
   ],
   "source": [
    "import numpy as np\n",
    "x=np.random.normal(0,0.3,(500,7))\n",
    "y=[1 if sum(x[i])>=0 else -1 for i in range(len(x))]\n",
    "print(str(sum(x[0]))+\" \"+str(y[0]))\n",
    "w=np.random.randn(x[0].size)\n",
    "f=logistic_regression(x,y,w)\n",
    "print(f.log_reg())\n",
    "f.steepest_gradient_method()\n",
    "print(f.log_reg())\n",
    "correct=0\n",
    "for i in range(100):\n",
    "    a=np.random.randn(7)\n",
    "    #print(str(f.judge(a))+\" \"+str(sum(a)))\n",
    "    if np.sum(a)>=0 and f.judge(a)==1:\n",
    "        correct=correct+1\n",
    "    if np.sum(a)<0 and f.judge(a)==-1:\n",
    "        correct=correct+1\n",
    "print(\"accuracy\"+str(correct)+\"%\")"
   ]
  },
  {
   "cell_type": "markdown",
   "metadata": {},
   "source": [
    "## 2."
   ]
  },
  {
   "cell_type": "code",
   "execution_count": 4,
   "metadata": {},
   "outputs": [
    {
     "name": "stdout",
     "output_type": "stream",
     "text": [
      "[[ 0.30280168 -0.44853542  0.23554955 ... -0.15550856 -0.20303107\n",
      "   0.26497791]\n",
      " [ 0.3127667   0.05398721 -0.15596103 ... -1.00043805 -0.019464\n",
      "  -0.41168994]\n",
      " [ 0.14289943 -0.36919137 -0.28141377 ... -0.10943095 -0.66065222\n",
      "  -0.06353058]\n",
      " ...\n",
      " [-0.4754268  -0.19145282  0.44915581 ...  0.47314536 -0.21585021\n",
      "  -0.68652588]\n",
      " [ 0.06542864  0.53742757  0.12451925 ... -0.29568277  0.17763998\n",
      "  -0.13327878]\n",
      " [-0.17906556  0.51950085 -0.44545991 ... -0.29797055  0.89495995\n",
      "   0.39168422]]\n",
      "-0.644185368456679 -1\n",
      "164.43821461972513\n",
      "0 :163.19705689112325\n",
      "10 :151.6211690507136\n",
      "20 :141.4667142296314\n",
      "30 :132.59581707151287\n",
      "40 :124.87524371746338\n",
      "50 :118.1782457917828\n",
      "60 :112.38593637144082\n",
      "70 :107.3882498289367\n",
      "80 :103.08451621026674\n",
      "90 :99.383686918473\n",
      "164.43821461972513\n",
      "86.50024264666973\n",
      "##########################\n",
      "75.67590080016728\n",
      "##########################\n",
      "75.54917939040632\n",
      "##########################\n",
      "75.54911631962368\n",
      "##########################\n",
      "75.5491163196073\n",
      "##########################\n",
      "75.5491163196073\n",
      "##########################\n",
      "75.5491163196073\n",
      "##########################\n",
      "75.5491163196073\n",
      "##########################\n",
      "75.54911631960728\n",
      "##########################\n",
      "75.54911631960726\n",
      "##########################\n",
      "accuracy76%\n",
      "accuracy76%\n"
     ]
    }
   ],
   "source": [
    "def fun(x):\n",
    "    a=0\n",
    "    for i in range(x.size):\n",
    "        if x[i]>0:\n",
    "            a=a+1\n",
    "        else:\n",
    "            a=a-1\n",
    "    if a>=0:\n",
    "        return 1\n",
    "    else :\n",
    "        return -1\n",
    "dim=10\n",
    "x=np.random.normal(0,0.4,(200,dim))\n",
    "print(x)\n",
    "#y=[fun(x[i]) for i in range(len(x))]\n",
    "w=np.random.randn(x[0].size)\n",
    "y=[1 if sum(x[i])>=0 else -1 for i in range(len(x))]\n",
    "print(str(sum(x[0]))+\" \"+str(y[0]))\n",
    "f=logistic_regression(x,y,w)\n",
    "print(f.log_reg())\n",
    "f.steepest_gradient_method()\n",
    "f1=logistic_regression(x,y,w)\n",
    "print(f1.log_reg())\n",
    "f1.newton_based_method()\n",
    "\n",
    "correct=0\n",
    "correct1=0\n",
    "for i in range(100):\n",
    "    a=np.random.randn(dim)\n",
    "    if np.sum(a)>=0 and f.judge(a)==1:\n",
    "        correct=correct+1\n",
    "    if np.sum(a)<0 and f.judge(a)==-1:\n",
    "        correct=correct+1\n",
    "    if np.sum(a)>=0 and f1.judge(a)==1:\n",
    "        correct1=correct+1\n",
    "    if np.sum(a)<0 and f1.judge(a)==-1:\n",
    "        correct1=correct+1\n",
    "print(\"accuracy\"+str(correct)+\"%\")\n",
    "print(\"accuracy\"+str(correct)+\"%\")"
   ]
  },
  {
   "cell_type": "markdown",
   "metadata": {},
   "source": [
    "## 3."
   ]
  },
  {
   "cell_type": "code",
   "execution_count": 5,
   "metadata": {},
   "outputs": [
    {
     "name": "stdout",
     "output_type": "stream",
     "text": [
      "[[-0.20135764 -0.27171472  0.66843506 ... -0.18176288  0.19671755\n",
      "   0.34337833]\n",
      " [-0.03929593  0.21448912  0.44802267 ...  0.37127575  0.14012966\n",
      "  -0.31491936]\n",
      " [ 0.26218852  0.28525439  0.58337531 ... -0.5315362  -0.22442176\n",
      "  -0.03244183]\n",
      " ...\n",
      " [-0.31034423 -0.25975493  0.28022568 ...  0.1526987   0.00839227\n",
      "  -0.10399469]\n",
      " [ 0.95844324  0.01956604 -0.10666678 ...  0.22835842 -0.27479686\n",
      "   0.07510744]\n",
      " [ 0.19219351  0.09091234  0.18354436 ... -0.04737171  0.11634719\n",
      "   0.44111896]]\n",
      "-0.6710869791212564 -1\n",
      "0 :164.45496256502014\n",
      "10 :155.281156585449\n",
      "20 :147.2464084352859\n",
      "30 :140.22848614317368\n",
      "40 :134.10948123456075\n",
      "50 :128.77889645766413\n",
      "60 :124.13565947796741\n",
      "70 :120.08909709942165\n",
      "80 :116.55907113720454\n",
      "90 :113.47553308106123\n",
      "90.14163818707294\n",
      "##########################\n",
      "89.18832568658993\n",
      "##########################\n",
      "89.18730336904554\n",
      "##########################\n",
      "89.18730336669461\n",
      "##########################\n",
      "89.18730336669465\n",
      "##########################\n",
      "89.18730336669464\n",
      "##########################\n",
      "89.18730336669461\n",
      "##########################\n",
      "89.18730336669466\n",
      "##########################\n",
      "89.18730336669464\n",
      "##########################\n",
      "89.18730336669469\n",
      "##########################\n",
      "165.4397319375757 165.4397319375757\n",
      "165.4397319375757 165.4397319375757\n",
      "164.45496256502014 90.14163818707294\n",
      "163.4828132326057 89.18832568658993\n",
      "162.52316200613774 89.18730336904554\n",
      "161.575886600888 89.18730336669461\n",
      "160.64086442552892 89.18730336669465\n",
      "159.71797262621493 89.18730336669464\n",
      "158.80708813088506 89.18730336669461\n",
      "157.90808769345344 89.18730336669466\n",
      "157.02084793807336 89.18730336669464\n"
     ]
    }
   ],
   "source": [
    "dim=10\n",
    "x=np.random.normal(0,0.3,(200,dim))\n",
    "print(x)\n",
    "w=np.random.randn(x[0].size)\n",
    "w1=w\n",
    "#y=[fun(x[i]) for i in range(len(x))]\n",
    "y=[1 if sum(x[i])>=0 else -1 for i in range(len(x))]\n",
    "print(str(sum(x[0]))+\" \"+str(y[0]))\n",
    "f=logistic_regression(x,y,w)\n",
    "fir=f.log_reg()\n",
    "a1=f.steepest_gradient_method()\n",
    "f1=logistic_regression(x,y,w1)\n",
    "sec=f1.log_reg()\n",
    "a2=f1.newton_based_method()\n",
    "print(str(fir)+\" \"+str(sec))\n",
    "for i in range(10):\n",
    "    print(str(a1[i])+\" \"+str(a2[i]))"
   ]
  },
  {
   "cell_type": "code",
   "execution_count": 8,
   "metadata": {},
   "outputs": [
    {
     "name": "stdout",
     "output_type": "stream",
     "text": [
      "165.4397319375757\n"
     ]
    },
    {
     "data": {
      "image/png": "[encoded data removed]",
      "text/plain": [
       "<Figure size 432x288 with 1 Axes>"
      ]
     },
     "metadata": {
      "needs_background": "light"
     },
     "output_type": "display_data"
    }
   ],
   "source": [
    "import matplotlib.pyplot as plt\n",
    "A=range(100)\n",
    "plt.plot(A,a1[0:100])\n",
    "plt.plot(A,a2[0:100])\n",
    "print(a2[0])\n",
    "plt.show()"
   ]
  },
  {
   "cell_type": "code",
   "execution_count": null,
   "metadata": {},
   "outputs": [],
   "source": []
  }
 ],
 "metadata": {
  "kernelspec": {
   "display_name": "Python 3",
   "language": "python",
   "name": "python3"
  },
  "language_info": {
   "codemirror_mode": {
    "name": "ipython",
    "version": 3
   },
   "file_extension": ".py",
   "mimetype": "text/x-python",
   "name": "python",
   "nbconvert_exporter": "python",
   "pygments_lexer": "ipython3",
   "version": "3.7.3"
  }
 },
 "nbformat": 4,
 "nbformat_minor": 2
}
