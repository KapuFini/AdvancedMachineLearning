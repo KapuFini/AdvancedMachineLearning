{
 "cells": [
  {
   "cell_type": "markdown",
   "metadata": {},
   "source": [
    "# Problem2\n",
    "## 1."
   ]
  },
  {
   "cell_type": "code",
   "execution_count": 1,
   "metadata": {},
   "outputs": [],
   "source": [
    "import matplotlib.pyplot as plt\n",
    "import numpy as np\n",
    "import numpy.linalg as LA\n",
    "class lasso:\n",
    "    def __init__(self,A,mu,l):\n",
    "        self.A=A\n",
    "        self.mu=mu\n",
    "        self.l=l\n",
    "    \n",
    "    def objective(self,w):\n",
    "        return np.dot(np.dot((w-self.mu),A),(w-self.mu).T)+self.l*np.sum(np.abs(w))\n",
    "    def grad(self,w):\n",
    "        \n",
    "        return 2*np.dot(A,np.array(w-self.mu).T)\n",
    "        \"\"\"\n",
    "        h=1/(2**12)\n",
    "        gradient=np.zeros_like(w)\n",
    "        for i in range(np.array(w).size):\n",
    "            tmp=w[i]\n",
    "            #print(w[i])\n",
    "            w[i]=w[i]+h\n",
    "            f1=self.objective(w)\n",
    "            w[i]=tmp-h\n",
    "            f2=self.objective(w)\n",
    "            gradient[i]=(f1-f2)/(2*h)\n",
    "            w[i]=tmp\n",
    "        return gradient\n",
    "        \"\"\""
   ]
  },
  {
   "cell_type": "code",
   "execution_count": 2,
   "metadata": {},
   "outputs": [
    {
     "name": "stdout",
     "output_type": "stream",
     "text": [
      "0.1603574565909282\n"
     ]
    }
   ],
   "source": [
    "A=np.array([[3,0.5],[0.5,1]])\n",
    "mu=np.array([1,2])\n",
    "\n",
    "L=2*np.max(LA.eig(A)[0])\n",
    "L=(1/L)\n",
    "print(L)"
   ]
  },
  {
   "cell_type": "code",
   "execution_count": 3,
   "metadata": {
    "scrolled": false
   },
   "outputs": [
    {
     "name": "stdout",
     "output_type": "stream",
     "text": [
      "4.9091000000000005\n",
      "[ 3 -1]\n",
      "23.0\n"
     ]
    },
    {
     "data": {
      "image/png": "[encoded data removed]",
      "text/plain": [
       "<Figure size 432x288 with 1 Axes>"
      ]
     },
     "metadata": {
      "needs_background": "light"
     },
     "output_type": "display_data"
    }
   ],
   "source": [
    "class prox:\n",
    "    def __init__(self,m,l,L):\n",
    "        #self.lasso=lasso\n",
    "        self.m=m\n",
    "        self.l=l\n",
    "        self.L=L\n",
    "    def f(self,w):\n",
    "        return np.dot(w-m,(w-self.m).T)/2 + self.l*np.sum(np.abs(w))\n",
    "    def opt(self,w):\n",
    "        ans=np.zeros_like(self.m)\n",
    "        for i in  range(self.m.size):\n",
    "            if self.m[i]>self.l*self.L:\n",
    "                ans[i]=self.m[i]-self.l*self.L\n",
    "            elif np.abs(self.m[i])<=self.l*self.L:\n",
    "                ans[i]=0\n",
    "            else:\n",
    "                ans[i]=self.m[i]+self.l*self.L\n",
    "        return ans\n",
    "w=np.array([3,-1])\n",
    "lass=lasso(A,mu,2)\n",
    "best=np.array([0.82,1.09])\n",
    "print(lass.objective([0.82,1.09]))\n",
    "print(w)\n",
    "print(lass.objective(w))\n",
    "#print(lass.grad(w))\n",
    "\n",
    "w_s=np.zeros([2,101])\n",
    "w_s[0][0]=3\n",
    "w_s[1][0]=-1\n",
    "dis=np.zeros(101)\n",
    "#print(np.sqrt(np.sum(((w-best))**2)))\n",
    "dis[0]=np.sqrt(np.sum(((w-best))**2))\n",
    "for i in range(100):\n",
    "    pr=prox(w-L*lass.grad(w),2,L)\n",
    "    w=pr.opt(w-L*lass.grad(w))\n",
    "    w_s[0][i+1]=w[0]\n",
    "    w_s[1][i+1]=w[1]\n",
    "    #print(\"w=\"+str(w))\n",
    "    dis[i+1]=np.sqrt(np.sum(((w-best))**2))\n",
    "import matplotlib.pyplot as plt\n",
    "#print(w_s[0:100][0])\n",
    "#print(w_s[1][:])\n",
    "plt.plot(dis)\n",
    "plt.yscale('log')\n",
    "plt.show()"
   ]
  },
  {
   "cell_type": "code",
   "execution_count": 4,
   "metadata": {},
   "outputs": [
    {
     "data": {
      "image/png": "[encoded data removed]",
      "text/plain": [
       "<Figure size 432x288 with 1 Axes>"
      ]
     },
     "metadata": {
      "needs_background": "light"
     },
     "output_type": "display_data"
    }
   ],
   "source": [
    "plt.plot(w_s[0],w_s[1])\n",
    "plt.scatter(w_s[0],w_s[1])\n",
    "plt.ylim([-3,3])\n",
    "plt.xlim([-3,3])\n",
    "plt.grid()\n",
    "plt.show()"
   ]
  },
  {
   "cell_type": "code",
   "execution_count": 5,
   "metadata": {},
   "outputs": [
    {
     "name": "stdout",
     "output_type": "stream",
     "text": [
      "7.6364\n",
      "[ 3 -1]\n",
      "31.0\n"
     ]
    },
    {
     "data": {
      "image/png": "[encoded data removed]",
      "text/plain": [
       "<Figure size 432x288 with 1 Axes>"
      ]
     },
     "metadata": {
      "needs_background": "light"
     },
     "output_type": "display_data"
    }
   ],
   "source": [
    "lass=lasso(A,mu,4)\n",
    "w=np.array([3,-1])\n",
    "print(lass.objective([0.64,0.18]))\n",
    "print(w)\n",
    "best=np.array([0.64,0.18])\n",
    "\n",
    "print(lass.objective(w))\n",
    "w_s=np.zeros([2,101])\n",
    "w_s[0][0]=3\n",
    "w_s[1][0]=-1\n",
    "dis=np.zeros(101)\n",
    "#print(np.sqrt(np.sum(((w-best))**2)))\n",
    "dis[0]=np.sqrt(np.sum(((w-best))**2))\n",
    "for i in range(100):\n",
    "    pr=prox(w-L*lass.grad(w),4,L)\n",
    "    w=pr.opt(w)\n",
    "    #print(lass.objective(w))\n",
    "    #print(w-L*lass.grad(w))\n",
    "    #print(\"w=\"+str(w))\n",
    "    w_s[0][i+1]=w[0]\n",
    "    w_s[1][i+1]=w[1]\n",
    "    dis[i+1]=np.sqrt(np.sum(((w-best))**2))\n",
    "plt.yscale('log')\n",
    "plt.plot(dis)\n",
    "plt.show()"
   ]
  },
  {
   "cell_type": "code",
   "execution_count": 6,
   "metadata": {},
   "outputs": [
    {
     "data": {
      "image/png": "[encoded data removed]",
      "text/plain": [
       "<Figure size 432x288 with 1 Axes>"
      ]
     },
     "metadata": {
      "needs_background": "light"
     },
     "output_type": "display_data"
    }
   ],
   "source": [
    "plt.plot(w_s[0],w_s[1])\n",
    "plt.scatter(w_s[0],w_s[1])\n",
    "plt.ylim([-3,3])\n",
    "plt.xlim([-3,3])\n",
    "plt.grid()\n",
    "plt.show()"
   ]
  },
  {
   "cell_type": "code",
   "execution_count": 7,
   "metadata": {},
   "outputs": [
    {
     "name": "stdout",
     "output_type": "stream",
     "text": [
      "8.6667\n",
      "[ 3 -1]\n",
      "39.0\n"
     ]
    },
    {
     "data": {
      "image/png": "[encoded data removed]",
      "text/plain": [
       "<Figure size 432x288 with 1 Axes>"
      ]
     },
     "metadata": {
      "needs_background": "light"
     },
     "output_type": "display_data"
    }
   ],
   "source": [
    "lass=lasso(A,mu,6)\n",
    "w=np.array([3,-1])\n",
    "print(lass.objective([0.33,0]))\n",
    "print(w)\n",
    "best=np.array([0.33,0])\n",
    "\n",
    "print(lass.objective(w))\n",
    "w_s=np.zeros([2,101])\n",
    "w_s[0][0]=3\n",
    "w_s[1][0]=-1\n",
    "dis=np.zeros(101)\n",
    "#print(np.sqrt(np.sum(((w-best))**2)))\n",
    "dis[0]=np.sqrt(np.sum(((w-best))**2))\n",
    "for i in range(100):\n",
    "    pr=prox(w-L*lass.grad(w),6,L)\n",
    "    w=pr.opt(w)\n",
    "    #print(lass.objective(w))\n",
    "    #print(w-L*lass.grad(w))\n",
    "    #print(\"w=\"+str(w))\n",
    "    w_s[0][i+1]=w[0]\n",
    "    w_s[1][i+1]=w[1]\n",
    "    dis[i+1]=np.sqrt(np.sum(((w-best))**2))\n",
    "plt.yscale('log')\n",
    "plt.plot(dis)\n",
    "plt.show()"
   ]
  },
  {
   "cell_type": "code",
   "execution_count": 8,
   "metadata": {},
   "outputs": [
    {
     "data": {
      "image/png": "[encoded data removed]",
      "text/plain": [
       "<Figure size 432x288 with 1 Axes>"
      ]
     },
     "metadata": {
      "needs_background": "light"
     },
     "output_type": "display_data"
    }
   ],
   "source": [
    "plt.plot(w_s[0],w_s[1])\n",
    "plt.scatter(w_s[0],w_s[1])\n",
    "plt.ylim([-3,3])\n",
    "plt.xlim([-3,3])\n",
    "plt.grid()\n",
    "plt.show()"
   ]
  },
  {
   "cell_type": "markdown",
   "metadata": {},
   "source": [
    "### 2"
   ]
  },
  {
   "cell_type": "code",
   "execution_count": null,
   "metadata": {},
   "outputs": [],
   "source": []
  }
 ],
 "metadata": {
  "kernelspec": {
   "display_name": "Python 3",
   "language": "python",
   "name": "python3"
  },
  "language_info": {
   "codemirror_mode": {
    "name": "ipython",
    "version": 3
   },
   "file_extension": ".py",
   "mimetype": "text/x-python",
   "name": "python",
   "nbconvert_exporter": "python",
   "pygments_lexer": "ipython3",
   "version": "3.7.3"
  }
 },
 "nbformat": 4,
 "nbformat_minor": 2
}
